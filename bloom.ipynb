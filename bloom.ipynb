{
 "cells": [
  {
   "cell_type": "code",
   "execution_count": 1,
   "id": "95bb7f11-41d3-4e6f-b1bf-f347f979655b",
   "metadata": {
    "tags": []
   },
   "outputs": [
    {
     "name": "stdout",
     "output_type": "stream",
     "text": [
      "True\n",
      "False\n"
     ]
    }
   ],
   "source": [
    "import ipaddress\n",
    "\n",
    "class BloomFilter:\n",
    "    def __init__(self, size):\n",
    "        self.size = size\n",
    "        self.bit_array = [0] * size\n",
    "\n",
    "    def _hash(self, ip):\n",
    "        # Sum of all digits in the IP address\n",
    "        return sum(int(digit) for digit in str(ip) if digit.isdigit()) % self.size\n",
    "\n",
    "    def add(self, ip):\n",
    "        h = self._hash(ip)\n",
    "        self.bit_array[h] = 1  # Set the bit at the hashed index\n",
    "\n",
    "    def check(self, ip):\n",
    "        h = self._hash(ip)\n",
    "        return self.bit_array[h] == 1  # Check if the bit at the hashed index is set\n",
    "\n",
    "# Example usage of the Bloom Filter\n",
    "bf = BloomFilter(1024)  # Initialize a Bloom Filter with a size of 1024 bits\n",
    "\n",
    "# Add some IP addresses\n",
    "bf.add(ipaddress.ip_address('192.168.0.1'))\n",
    "bf.add(ipaddress.ip_address('10.0.0.1'))\n",
    "\n",
    "# Membership queries\n",
    "print(bf.check(ipaddress.ip_address('192.168.0.1')))  # Expected: True\n",
    "print(bf.check(ipaddress.ip_address('8.8.8.8')))      # Expected: False or True if it's a false positive\n",
    "\n"
   ]
  },
  {
   "cell_type": "code",
   "execution_count": 2,
   "id": "c3b4ddc1-8e7a-435f-9200-b91e789c7245",
   "metadata": {
    "tags": []
   },
   "outputs": [],
   "source": [
    "bf.add(ipaddress.ip_address('2.1.1.1'))\n"
   ]
  },
  {
   "cell_type": "code",
   "execution_count": 3,
   "id": "3bdc95e1-08a5-413a-a05e-e3cf8063718e",
   "metadata": {
    "tags": []
   },
   "outputs": [],
   "source": [
    "bf.add(ipaddress.ip_address('1.1.1.2'))\n"
   ]
  },
  {
   "cell_type": "code",
   "execution_count": 4,
   "id": "b91b87ed-f9bc-4dff-9991-54480540ae51",
   "metadata": {
    "tags": []
   },
   "outputs": [
    {
     "name": "stdout",
     "output_type": "stream",
     "text": [
      "False\n"
     ]
    }
   ],
   "source": [
    "print(bf.check(ipaddress.ip_address('1.1.1.1')))"
   ]
  },
  {
   "cell_type": "code",
   "execution_count": 5,
   "id": "1fb9dc5d-61b5-439f-b206-503b4a5e1c03",
   "metadata": {
    "tags": []
   },
   "outputs": [
    {
     "name": "stdout",
     "output_type": "stream",
     "text": [
      "True\n"
     ]
    }
   ],
   "source": [
    "print(bf.check(ipaddress.ip_address('1.2.1.1')))"
   ]
  },
  {
   "cell_type": "code",
   "execution_count": null,
   "id": "8a0c2238-7205-4880-b31b-72cc00191dcc",
   "metadata": {},
   "outputs": [],
   "source": []
  }
 ],
 "metadata": {
  "kernelspec": {
   "display_name": "Python 3 (ipykernel)",
   "language": "python",
   "name": "python3"
  },
  "language_info": {
   "codemirror_mode": {
    "name": "ipython",
    "version": 3
   },
   "file_extension": ".py",
   "mimetype": "text/x-python",
   "name": "python",
   "nbconvert_exporter": "python",
   "pygments_lexer": "ipython3",
   "version": "3.11.5"
  }
 },
 "nbformat": 4,
 "nbformat_minor": 5
}
