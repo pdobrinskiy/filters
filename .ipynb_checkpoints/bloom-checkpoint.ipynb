{
 "cells": [
  {
   "cell_type": "code",
   "execution_count": 1,
   "id": "95bb7f11-41d3-4e6f-b1bf-f347f979655b",
   "metadata": {
    "tags": []
   },
   "outputs": [
    {
     "name": "stdout",
     "output_type": "stream",
     "text": [
      "True\n",
      "False\n"
     ]
    }
   ],
   "source": [
    "import ipaddress\n",
    "\n",
    "class BloomFilter:\n",
    "    def __init__(self, size):\n",
    "        self.size = size\n",
    "        self.bit_array = [0] * size\n",
    "\n",
    "    def _hash(self, ip):\n",
    "        # Sum of all digits in the IP address\n",
    "        return sum(int(digit) for digit in str(ip) if digit.isdigit()) % self.size\n",
    "\n",
    "    def add(self, ip):\n",
    "        h = self._hash(ip)\n",
    "        self.bit_array[h] = 1  # Set the bit at the hashed index\n",
    "\n",
    "    def check(self, ip):\n",
    "        h = self._hash(ip)\n",
    "        return self.bit_array[h] == 1  # Check if the bit at the hashed index is set\n",
    "\n",
    "# Example usage of the Bloom Filter\n",
    "bf = BloomFilter(1024)  # Initialize a Bloom Filter with a size of 1024 bits\n",
    "\n",
    "# Add some IP addresses\n",
    "bf.add(ipaddress.ip_address('192.168.0.1'))\n",
    "bf.add(ipaddress.ip_address('10.0.0.1'))\n",
    "\n",
    "# Membership queries\n",
    "print(bf.check(ipaddress.ip_address('192.168.0.1')))  # Expected: True\n",
    "print(bf.check(ipaddress.ip_address('8.8.8.8')))      # Expected: False or True if it's a false positive\n",
    "\n"
   ]
  },
  {
   "cell_type": "code",
   "execution_count": 2,
   "id": "c3b4ddc1-8e7a-435f-9200-b91e789c7245",
   "metadata": {
    "tags": []
   },
   "outputs": [],
   "source": [
    "bf.add(ipaddress.ip_address('2.1.1.1'))\n"
   ]
  },
  {
   "cell_type": "code",
   "execution_count": 3,
   "id": "3bdc95e1-08a5-413a-a05e-e3cf8063718e",
   "metadata": {
    "tags": []
   },
   "outputs": [],
   "source": [
    "bf.add(ipaddress.ip_address('1.1.1.2'))\n"
   ]
  },
  {
   "cell_type": "code",
   "execution_count": 4,
   "id": "b91b87ed-f9bc-4dff-9991-54480540ae51",
   "metadata": {
    "tags": []
   },
   "outputs": [
    {
     "name": "stdout",
     "output_type": "stream",
     "text": [
      "False\n"
     ]
    }
   ],
   "source": [
    "print(bf.check(ipaddress.ip_address('1.1.1.1')))"
   ]
  },
  {
   "cell_type": "code",
   "execution_count": 5,
   "id": "1fb9dc5d-61b5-439f-b206-503b4a5e1c03",
   "metadata": {
    "tags": []
   },
   "outputs": [
    {
     "name": "stdout",
     "output_type": "stream",
     "text": [
      "True\n"
     ]
    }
   ],
   "source": [
    "print(bf.check(ipaddress.ip_address('1.2.1.1')))"
   ]
  },
  {
   "cell_type": "code",
   "execution_count": 36,
   "id": "8a0c2238-7205-4880-b31b-72cc00191dcc",
   "metadata": {
    "tags": []
   },
   "outputs": [
    {
     "name": "stdout",
     "output_type": "stream",
     "text": [
      "True\n",
      "False\n"
     ]
    }
   ],
   "source": [
    "class CustomXORFilter:\n",
    "    def __init__(self, size=1024):\n",
    "        self.size = size\n",
    "        self.bit_array = [0] * size\n",
    "\n",
    "    def _hash1(self, ip):\n",
    "        # Sum of all digits in the IP address\n",
    "        return sum(int(digit) for digit in ip if digit.isdigit()) % self.size\n",
    "\n",
    "    def _hash2(self, ip):\n",
    "        # Sum of digits in the first two octets minus sum of digits in the last two octets\n",
    "        octets = ip.split('.')\n",
    "        if len(octets) == 4:\n",
    "            sum_first_two = sum(int(digit) for digit in octets[0] + octets[1] if digit.isdigit())\n",
    "            sum_last_two = sum(int(digit) for digit in octets[2] + octets[3] if digit.isdigit())\n",
    "            return (sum_first_two - sum_last_two) % self.size\n",
    "        else:\n",
    "            return 0\n",
    "\n",
    "    def add(self, ip):\n",
    "        h1 = self._hash1(ip)\n",
    "        h2 = self._hash2(ip)\n",
    "        self.bit_array[h1] ^= 1  # XOR operation on the first hash\n",
    "        self.bit_array[h2] ^= 1  # XOR operation on the second hash\n",
    "\n",
    "    def check(self, ip):\n",
    "        h1 = self._hash1(ip)\n",
    "        h2 = self._hash2(ip)\n",
    "        return self.bit_array[h1] == 1 and self.bit_array[h2] == 1\n",
    "\n",
    "# Example usage\n",
    "xor_filter = CustomXORFilter()\n",
    "\n",
    "# Add IP addresses to the filter\n",
    "xor_filter.add('192.168.0.1')\n",
    "xor_filter.add('10.0.0.1')\n",
    "\n",
    "# Check if IP addresses are in the filter\n",
    "print(xor_filter.check('192.168.0.1'))  # Likely True\n",
    "print(xor_filter.check('8.8.8.8'))      # Could be False or a False Positive\n",
    "\n"
   ]
  },
  {
   "cell_type": "code",
   "execution_count": 37,
   "id": "4abfbf4c-19e4-4a6c-aff9-18a34015245d",
   "metadata": {
    "tags": []
   },
   "outputs": [],
   "source": [
    "xor_filter.add('1.1.1.2')"
   ]
  },
  {
   "cell_type": "code",
   "execution_count": 34,
   "id": "ac5051d6-147b-4edb-b28f-9baea7bbae30",
   "metadata": {
    "tags": []
   },
   "outputs": [],
   "source": [
    "xor_filter.add('1.1.1.1')"
   ]
  },
  {
   "cell_type": "code",
   "execution_count": 38,
   "id": "7c213f0e-d148-4938-ba3e-a167a0e8139b",
   "metadata": {
    "tags": []
   },
   "outputs": [
    {
     "name": "stdout",
     "output_type": "stream",
     "text": [
      "True\n"
     ]
    }
   ],
   "source": [
    "print(xor_filter.check('1.1.1.2')) \n"
   ]
  },
  {
   "cell_type": "code",
   "execution_count": 40,
   "id": "b840b32e-a4af-4003-90d8-9622ca3f8944",
   "metadata": {
    "tags": []
   },
   "outputs": [
    {
     "name": "stdout",
     "output_type": "stream",
     "text": [
      "True\n"
     ]
    }
   ],
   "source": [
    "print(xor_filter.check('1.1.2.1')) \n"
   ]
  },
  {
   "cell_type": "code",
   "execution_count": null,
   "id": "26e7cd4f-a5ae-4a18-bec9-71b3ea1f65f8",
   "metadata": {},
   "outputs": [],
   "source": []
  }
 ],
 "metadata": {
  "kernelspec": {
   "display_name": "Python 3 (ipykernel)",
   "language": "python",
   "name": "python3"
  },
  "language_info": {
   "codemirror_mode": {
    "name": "ipython",
    "version": 3
   },
   "file_extension": ".py",
   "mimetype": "text/x-python",
   "name": "python",
   "nbconvert_exporter": "python",
   "pygments_lexer": "ipython3",
   "version": "3.11.5"
  }
 },
 "nbformat": 4,
 "nbformat_minor": 5
}
